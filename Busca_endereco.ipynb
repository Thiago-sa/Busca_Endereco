{
  "nbformat": 4,
  "nbformat_minor": 0,
  "metadata": {
    "colab": {
      "provenance": [],
      "authorship_tag": "ABX9TyMSuNXIlBZpCiqEOyuzn3r1",
      "include_colab_link": true
    },
    "kernelspec": {
      "name": "python3",
      "display_name": "Python 3"
    },
    "language_info": {
      "name": "python"
    }
  },
  "cells": [
    {
      "cell_type": "markdown",
      "metadata": {
        "id": "view-in-github",
        "colab_type": "text"
      },
      "source": [
        "<a href=\"https://colab.research.google.com/github/Thiago-sa/Busca_Endereco/blob/main/Busca_endereco.ipynb\" target=\"_parent\"><img src=\"https://colab.research.google.com/assets/colab-badge.svg\" alt=\"Open In Colab\"/></a>"
      ]
    },
    {
      "cell_type": "markdown",
      "source": [
        "# **Localizando endereços através da API da VIACEP**\n"
      ],
      "metadata": {
        "id": "UTTpvg-irxig"
      }
    },
    {
      "cell_type": "code",
      "source": [
        "#Importação de pacotes\n",
        "import pandas as pd\n",
        "import urllib.request\n",
        "import requests\n",
        "import json"
      ],
      "metadata": {
        "id": "cMUI09Y-sX3g"
      },
      "execution_count": 28,
      "outputs": []
    },
    {
      "cell_type": "code",
      "source": [
        "#Importação do arquivo de dados\n",
        "df = pd.read_excel('/content/dados.xlsx', dtype={ 'CEP_CLIENTE': 'str'})"
      ],
      "metadata": {
        "id": "OWq30qhVsyB8"
      },
      "execution_count": 29,
      "outputs": []
    },
    {
      "cell_type": "code",
      "source": [],
      "metadata": {
        "id": "rAIQKyZp2jES"
      },
      "execution_count": 29,
      "outputs": []
    },
    {
      "cell_type": "markdown",
      "source": [
        "# **Vamos fazer uma análise exploratória básica**\n",
        "\n",
        "O objetivo dessa análise é ter uma visão do conjunto de dados, compreendendo seu tamanho, variáveis, tipo de dados e período de dados coletados."
      ],
      "metadata": {
        "id": "stoVDMZZt1K6"
      }
    },
    {
      "cell_type": "code",
      "source": [
        "#Tamanho do conjunto de dados, 29 linhas e 2 colunas\n",
        "df.shape"
      ],
      "metadata": {
        "colab": {
          "base_uri": "https://localhost:8080/"
        },
        "id": "_ASfbGr-vGfU",
        "outputId": "020a5874-7802-4d5c-ddcb-8135a70b6267"
      },
      "execution_count": 30,
      "outputs": [
        {
          "output_type": "execute_result",
          "data": {
            "text/plain": [
              "(29, 2)"
            ]
          },
          "metadata": {},
          "execution_count": 30
        }
      ]
    },
    {
      "cell_type": "code",
      "source": [
        "#Visão geral do conjunto de dados, no momento só possui 2 colunas.\n",
        "df.head()"
      ],
      "metadata": {
        "colab": {
          "base_uri": "https://localhost:8080/",
          "height": 206
        },
        "id": "mnoxO0mWvqQT",
        "outputId": "b5144db1-adb3-49ca-af08-d0f5666b403b"
      },
      "execution_count": 31,
      "outputs": [
        {
          "output_type": "execute_result",
          "data": {
            "text/plain": [
              "   CODIGO_CLIENTE CEP_CLIENTE\n",
              "0            5695    78795000\n",
              "1            5705    74905090\n",
              "2            5711    78725160\n",
              "3            5727    75904520\n",
              "4            5994    43900000"
            ],
            "text/html": [
              "\n",
              "\n",
              "  <div id=\"df-8267caa4-35e8-473d-8419-7cf4e2dde225\">\n",
              "    <div class=\"colab-df-container\">\n",
              "      <div>\n",
              "<style scoped>\n",
              "    .dataframe tbody tr th:only-of-type {\n",
              "        vertical-align: middle;\n",
              "    }\n",
              "\n",
              "    .dataframe tbody tr th {\n",
              "        vertical-align: top;\n",
              "    }\n",
              "\n",
              "    .dataframe thead th {\n",
              "        text-align: right;\n",
              "    }\n",
              "</style>\n",
              "<table border=\"1\" class=\"dataframe\">\n",
              "  <thead>\n",
              "    <tr style=\"text-align: right;\">\n",
              "      <th></th>\n",
              "      <th>CODIGO_CLIENTE</th>\n",
              "      <th>CEP_CLIENTE</th>\n",
              "    </tr>\n",
              "  </thead>\n",
              "  <tbody>\n",
              "    <tr>\n",
              "      <th>0</th>\n",
              "      <td>5695</td>\n",
              "      <td>78795000</td>\n",
              "    </tr>\n",
              "    <tr>\n",
              "      <th>1</th>\n",
              "      <td>5705</td>\n",
              "      <td>74905090</td>\n",
              "    </tr>\n",
              "    <tr>\n",
              "      <th>2</th>\n",
              "      <td>5711</td>\n",
              "      <td>78725160</td>\n",
              "    </tr>\n",
              "    <tr>\n",
              "      <th>3</th>\n",
              "      <td>5727</td>\n",
              "      <td>75904520</td>\n",
              "    </tr>\n",
              "    <tr>\n",
              "      <th>4</th>\n",
              "      <td>5994</td>\n",
              "      <td>43900000</td>\n",
              "    </tr>\n",
              "  </tbody>\n",
              "</table>\n",
              "</div>\n",
              "      <button class=\"colab-df-convert\" onclick=\"convertToInteractive('df-8267caa4-35e8-473d-8419-7cf4e2dde225')\"\n",
              "              title=\"Convert this dataframe to an interactive table.\"\n",
              "              style=\"display:none;\">\n",
              "\n",
              "  <svg xmlns=\"http://www.w3.org/2000/svg\" height=\"24px\"viewBox=\"0 0 24 24\"\n",
              "       width=\"24px\">\n",
              "    <path d=\"M0 0h24v24H0V0z\" fill=\"none\"/>\n",
              "    <path d=\"M18.56 5.44l.94 2.06.94-2.06 2.06-.94-2.06-.94-.94-2.06-.94 2.06-2.06.94zm-11 1L8.5 8.5l.94-2.06 2.06-.94-2.06-.94L8.5 2.5l-.94 2.06-2.06.94zm10 10l.94 2.06.94-2.06 2.06-.94-2.06-.94-.94-2.06-.94 2.06-2.06.94z\"/><path d=\"M17.41 7.96l-1.37-1.37c-.4-.4-.92-.59-1.43-.59-.52 0-1.04.2-1.43.59L10.3 9.45l-7.72 7.72c-.78.78-.78 2.05 0 2.83L4 21.41c.39.39.9.59 1.41.59.51 0 1.02-.2 1.41-.59l7.78-7.78 2.81-2.81c.8-.78.8-2.07 0-2.86zM5.41 20L4 18.59l7.72-7.72 1.47 1.35L5.41 20z\"/>\n",
              "  </svg>\n",
              "      </button>\n",
              "\n",
              "\n",
              "\n",
              "    <div id=\"df-ed761584-d8ee-41a8-bcf3-94ef81fc9629\">\n",
              "      <button class=\"colab-df-quickchart\" onclick=\"quickchart('df-ed761584-d8ee-41a8-bcf3-94ef81fc9629')\"\n",
              "              title=\"Suggest charts.\"\n",
              "              style=\"display:none;\">\n",
              "\n",
              "<svg xmlns=\"http://www.w3.org/2000/svg\" height=\"24px\"viewBox=\"0 0 24 24\"\n",
              "     width=\"24px\">\n",
              "    <g>\n",
              "        <path d=\"M19 3H5c-1.1 0-2 .9-2 2v14c0 1.1.9 2 2 2h14c1.1 0 2-.9 2-2V5c0-1.1-.9-2-2-2zM9 17H7v-7h2v7zm4 0h-2V7h2v10zm4 0h-2v-4h2v4z\"/>\n",
              "    </g>\n",
              "</svg>\n",
              "      </button>\n",
              "    </div>\n",
              "\n",
              "<style>\n",
              "  .colab-df-quickchart {\n",
              "    background-color: #E8F0FE;\n",
              "    border: none;\n",
              "    border-radius: 50%;\n",
              "    cursor: pointer;\n",
              "    display: none;\n",
              "    fill: #1967D2;\n",
              "    height: 32px;\n",
              "    padding: 0 0 0 0;\n",
              "    width: 32px;\n",
              "  }\n",
              "\n",
              "  .colab-df-quickchart:hover {\n",
              "    background-color: #E2EBFA;\n",
              "    box-shadow: 0px 1px 2px rgba(60, 64, 67, 0.3), 0px 1px 3px 1px rgba(60, 64, 67, 0.15);\n",
              "    fill: #174EA6;\n",
              "  }\n",
              "\n",
              "  [theme=dark] .colab-df-quickchart {\n",
              "    background-color: #3B4455;\n",
              "    fill: #D2E3FC;\n",
              "  }\n",
              "\n",
              "  [theme=dark] .colab-df-quickchart:hover {\n",
              "    background-color: #434B5C;\n",
              "    box-shadow: 0px 1px 3px 1px rgba(0, 0, 0, 0.15);\n",
              "    filter: drop-shadow(0px 1px 2px rgba(0, 0, 0, 0.3));\n",
              "    fill: #FFFFFF;\n",
              "  }\n",
              "</style>\n",
              "\n",
              "    <script>\n",
              "      async function quickchart(key) {\n",
              "        const containerElement = document.querySelector('#' + key);\n",
              "        const charts = await google.colab.kernel.invokeFunction(\n",
              "            'suggestCharts', [key], {});\n",
              "      }\n",
              "    </script>\n",
              "\n",
              "      <script>\n",
              "\n",
              "function displayQuickchartButton(domScope) {\n",
              "  let quickchartButtonEl =\n",
              "    domScope.querySelector('#df-ed761584-d8ee-41a8-bcf3-94ef81fc9629 button.colab-df-quickchart');\n",
              "  quickchartButtonEl.style.display =\n",
              "    google.colab.kernel.accessAllowed ? 'block' : 'none';\n",
              "}\n",
              "\n",
              "        displayQuickchartButton(document);\n",
              "      </script>\n",
              "      <style>\n",
              "    .colab-df-container {\n",
              "      display:flex;\n",
              "      flex-wrap:wrap;\n",
              "      gap: 12px;\n",
              "    }\n",
              "\n",
              "    .colab-df-convert {\n",
              "      background-color: #E8F0FE;\n",
              "      border: none;\n",
              "      border-radius: 50%;\n",
              "      cursor: pointer;\n",
              "      display: none;\n",
              "      fill: #1967D2;\n",
              "      height: 32px;\n",
              "      padding: 0 0 0 0;\n",
              "      width: 32px;\n",
              "    }\n",
              "\n",
              "    .colab-df-convert:hover {\n",
              "      background-color: #E2EBFA;\n",
              "      box-shadow: 0px 1px 2px rgba(60, 64, 67, 0.3), 0px 1px 3px 1px rgba(60, 64, 67, 0.15);\n",
              "      fill: #174EA6;\n",
              "    }\n",
              "\n",
              "    [theme=dark] .colab-df-convert {\n",
              "      background-color: #3B4455;\n",
              "      fill: #D2E3FC;\n",
              "    }\n",
              "\n",
              "    [theme=dark] .colab-df-convert:hover {\n",
              "      background-color: #434B5C;\n",
              "      box-shadow: 0px 1px 3px 1px rgba(0, 0, 0, 0.15);\n",
              "      filter: drop-shadow(0px 1px 2px rgba(0, 0, 0, 0.3));\n",
              "      fill: #FFFFFF;\n",
              "    }\n",
              "  </style>\n",
              "\n",
              "      <script>\n",
              "        const buttonEl =\n",
              "          document.querySelector('#df-8267caa4-35e8-473d-8419-7cf4e2dde225 button.colab-df-convert');\n",
              "        buttonEl.style.display =\n",
              "          google.colab.kernel.accessAllowed ? 'block' : 'none';\n",
              "\n",
              "        async function convertToInteractive(key) {\n",
              "          const element = document.querySelector('#df-8267caa4-35e8-473d-8419-7cf4e2dde225');\n",
              "          const dataTable =\n",
              "            await google.colab.kernel.invokeFunction('convertToInteractive',\n",
              "                                                     [key], {});\n",
              "          if (!dataTable) return;\n",
              "\n",
              "          const docLinkHtml = 'Like what you see? Visit the ' +\n",
              "            '<a target=\"_blank\" href=https://colab.research.google.com/notebooks/data_table.ipynb>data table notebook</a>'\n",
              "            + ' to learn more about interactive tables.';\n",
              "          element.innerHTML = '';\n",
              "          dataTable['output_type'] = 'display_data';\n",
              "          await google.colab.output.renderOutput(dataTable, element);\n",
              "          const docLink = document.createElement('div');\n",
              "          docLink.innerHTML = docLinkHtml;\n",
              "          element.appendChild(docLink);\n",
              "        }\n",
              "      </script>\n",
              "    </div>\n",
              "  </div>\n"
            ]
          },
          "metadata": {},
          "execution_count": 31
        }
      ]
    },
    {
      "cell_type": "code",
      "source": [
        "# Vamos avaliar os tipos de variaveis\n",
        "# Precisamos confirmar que a variacel CEP_CLIENTE esteja como String.\n",
        "df.info()"
      ],
      "metadata": {
        "colab": {
          "base_uri": "https://localhost:8080/"
        },
        "id": "BmmyE7-0vspy",
        "outputId": "fc19b26c-d355-4d75-8448-c997e8f4dbd7"
      },
      "execution_count": 32,
      "outputs": [
        {
          "output_type": "stream",
          "name": "stdout",
          "text": [
            "<class 'pandas.core.frame.DataFrame'>\n",
            "RangeIndex: 29 entries, 0 to 28\n",
            "Data columns (total 2 columns):\n",
            " #   Column          Non-Null Count  Dtype \n",
            "---  ------          --------------  ----- \n",
            " 0   CODIGO_CLIENTE  29 non-null     int64 \n",
            " 1   CEP_CLIENTE     29 non-null     object\n",
            "dtypes: int64(1), object(1)\n",
            "memory usage: 592.0+ bytes\n"
          ]
        }
      ]
    },
    {
      "cell_type": "code",
      "source": [
        "# Vamos criar um DataFrame separado somente com os CEP´s e depois manter somente os CEP´s únicos.\n",
        "# Dessa forma, consultaremos a API somente uma vez para cada CEP\n",
        "df_ceps_clientes = df['CEP_CLIENTE']\n",
        "df_ceps_clientes = pd.DataFrame(df_ceps_clientes)\n",
        "df_ceps_clientes.drop_duplicates(inplace = True)\n",
        "\n",
        "df_ceps_clientes.head()"
      ],
      "metadata": {
        "id": "g7MGSfIyxDvC"
      },
      "execution_count": null,
      "outputs": []
    },
    {
      "cell_type": "code",
      "source": [
        "# Visualizando a quantidade de CEP unico\n",
        "print('Ceps únicos de clientes:' , df_ceps_clientes.count())"
      ],
      "metadata": {
        "colab": {
          "base_uri": "https://localhost:8080/"
        },
        "id": "899IZINCy3qB",
        "outputId": "9764c8a0-259e-4464-bd09-cc9a69f7e4af"
      },
      "execution_count": 34,
      "outputs": [
        {
          "output_type": "stream",
          "name": "stdout",
          "text": [
            "Ceps únicos de clientes: CEP_CLIENTE    28\n",
            "dtype: int64\n"
          ]
        }
      ]
    },
    {
      "cell_type": "code",
      "source": [
        "# Variavel url para armazenar o caminho da API\n",
        "url = 'https://viacep.com.br/ws/%s/json/' % '04849000'\n",
        "\n",
        "# Variavel header para armazenar o parametro do header da API\n",
        "headers = {'User-Agent': 'Autociencia/1.0'}\n",
        "\n",
        "# Variavel requisição para fazer a chamada na API\n",
        "requisicao = urllib.request.Request(url, headers=headers, method='GET')\n",
        "\n",
        "# Variavel cliente para abrir a requisição\n",
        "cliente = urllib.request.urlopen(requisicao)\n",
        "\n",
        "# Variavel conteúdo para armazenar o conteúdo da api\n",
        "conteudo = cliente.read().decode('utf-8')\n",
        "\n",
        "# Variavel endereco para armazenar o conteúdo da API ja converdio em um dicionário\n",
        "endereco = json.loads(conteudo)"
      ],
      "metadata": {
        "id": "VNyGk-jR1erS"
      },
      "execution_count": 35,
      "outputs": []
    },
    {
      "cell_type": "code",
      "source": [
        "# Exibindo o endereço completo sem tratamento\n",
        "print(endereco)"
      ],
      "metadata": {
        "colab": {
          "base_uri": "https://localhost:8080/"
        },
        "id": "VkjadImu1wsQ",
        "outputId": "e5baef11-8ca4-4682-8648-dbe344abbb26"
      },
      "execution_count": 36,
      "outputs": [
        {
          "output_type": "stream",
          "name": "stdout",
          "text": [
            "{'cep': '04849-000', 'logradouro': 'Rua Gilberto Freyre', 'complemento': '', 'bairro': 'Parque Residencial Cocaia', 'localidade': 'São Paulo', 'uf': 'SP', 'ibge': '3550308', 'gia': '1004', 'ddd': '11', 'siafi': '7107'}\n"
          ]
        }
      ]
    },
    {
      "cell_type": "code",
      "source": [
        "# Exibindo os valores de forma separada e organizada\n",
        "print('Endereco:' , endereco['logradouro'])\n",
        "print('Bairro:' , endereco['bairro'])\n",
        "print('Cidade:' , endereco['localidade'])\n",
        "print('Estado:' , endereco['uf'])"
      ],
      "metadata": {
        "id": "nYhtprOn1595"
      },
      "execution_count": null,
      "outputs": []
    },
    {
      "cell_type": "markdown",
      "source": [
        "#No códigos abaixo vamos criar novas colunas com as informações:\n",
        "\n",
        "- Endereço\n",
        "- Bairro\n",
        "- Cidade\n",
        "- Estado\n"
      ],
      "metadata": {
        "id": "BgCHNiQVzPZ3"
      }
    },
    {
      "cell_type": "code",
      "source": [
        "for idx, row in df_ceps_clientes.iterrows():\n",
        "\n",
        "  cep = row.CEP_CLIENTE\n",
        "  url = 'https://viacep.com.br/ws/%s/json/' % cep\n",
        "  headers = {'User-Agent': 'Autociencia/1.0'}\n",
        "  requisicao = urllib.request.Request(url, headers=headers, method='GET')\n",
        "  cliente = urllib.request.urlopen(requisicao)\n",
        "  conteudo = cliente.read().decode('utf-8')\n",
        "  endereco = json.loads(conteudo)\n",
        "  cliente.close()\n",
        "  print(cep)\n",
        "\n",
        "  if 'cep' in endereco:\n",
        "    df_ceps_clientes.at[idx, 'ENDERECO_CLIENTE'] = endereco['logradouro']\n",
        "    df_ceps_clientes.at[idx, 'BAIRRO_CLIENTE'] = endereco['bairro']\n",
        "    df_ceps_clientes.at[idx, 'CIDADE_CLIENTE'] = endereco['localidade']\n",
        "    df_ceps_clientes.at[idx, 'ESTADO_CLIENTE'] = endereco['uf']\n",
        "\n",
        "  else:\n",
        "    df_ceps_clientes.at[idx, 'ENDERECO_CLIENTE'] = 'Não localizado'\n",
        "    df_ceps_clientes.at[idx, 'BAIRRO_CLIENTE'] = 'Não localizado'\n",
        "    df_ceps_clientes.at[idx, 'CIDADE_CLIENTE'] = 'Não localizado'\n",
        "    df_ceps_clientes.at[idx, 'ESTADO_CLIENTE'] = 'Não localizado'"
      ],
      "metadata": {
        "id": "HD4QQmX57-o0"
      },
      "execution_count": null,
      "outputs": []
    },
    {
      "cell_type": "code",
      "source": [
        "# O código mostra de maneira organizada as colunas criadas no dataframe e as informações de endereçamento do cliente.\n",
        "df_ceps_clientes.head(25)"
      ],
      "metadata": {
        "id": "sUJPybB_KOYX"
      },
      "execution_count": null,
      "outputs": []
    },
    {
      "cell_type": "markdown",
      "source": [
        " # **Agora está muito mais intuitivo **😯\n",
        "\n",
        " O código abaixo permite o usuário(você) a digitar qualquer CEP e achar o endereço completo.\n",
        "\n",
        " Basta clicar no botãozinho de play ▶ no canto esquerdo do código, em seguida, colocar os numeros do CEP no campo solicitado.\n"
      ],
      "metadata": {
        "id": "TxorDHWU5-2N"
      }
    },
    {
      "cell_type": "code",
      "source": [
        "# <--- Para conseguir colocar o CEP clica no botão de PLAY a esquerda e insira um cep.\n",
        "def consultar_endereco_por_cep(cep):\n",
        "    url = f'https://viacep.com.br/ws/{cep}/json/'\n",
        "    response = requests.get(url)\n",
        "\n",
        "    if response.status_code == 200:\n",
        "        data = response.json()\n",
        "        if 'erro' not in data:\n",
        "            return data\n",
        "        else:\n",
        "            print('CEP não encontrado.')\n",
        "    else:\n",
        "        print('Erro na consulta. Verifique sua conexão com a internet.')\n",
        "\n",
        "def main():\n",
        "    while True:\n",
        "        cep = input('Digite o CEP (somente números): ')\n",
        "        if len(cep) == 8 and cep.isdigit():\n",
        "            endereco = consultar_endereco_por_cep(cep)\n",
        "            if endereco:\n",
        "                print('\\nInformações do endereço:')\n",
        "                print(f'CEP: {endereco[\"cep\"]}')\n",
        "                print(f'Logradouro: {endereco[\"logradouro\"]}')\n",
        "                print(f'Complemento: {endereco[\"complemento\"]}')\n",
        "                print(f'Bairro: {endereco[\"bairro\"]}')\n",
        "                print(f'Cidade: {endereco[\"localidade\"]}')\n",
        "                print(f'Estado: {endereco[\"uf\"]}')\n",
        "            break\n",
        "        else:\n",
        "            print('CEP inválido. O CEP deve conter 8 números.')\n",
        "\n",
        "\n",
        "if __name__ == '__main__':\n",
        "    main()\n"
      ],
      "metadata": {
        "colab": {
          "base_uri": "https://localhost:8080/"
        },
        "id": "BZ6V_tk75bJQ",
        "outputId": "1a9b70a2-2de8-4ae4-d56f-d555e96ce6a6"
      },
      "execution_count": 43,
      "outputs": [
        {
          "output_type": "stream",
          "name": "stdout",
          "text": [
            "Digite o CEP (somente números): 04849000\n",
            "\n",
            "Informações do endereço:\n",
            "CEP: 04849-000\n",
            "Logradouro: Rua Gilberto Freyre\n",
            "Complemento: \n",
            "Bairro: Parque Residencial Cocaia\n",
            "Cidade: São Paulo\n",
            "Estado: SP\n"
          ]
        }
      ]
    }
  ]
}